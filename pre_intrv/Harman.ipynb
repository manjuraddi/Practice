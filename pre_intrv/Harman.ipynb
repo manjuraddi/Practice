{
 "cells": [
  {
   "cell_type": "code",
   "execution_count": null,
   "metadata": {},
   "outputs": [],
   "source": []
  },
  {
   "cell_type": "code",
   "execution_count": 15,
   "metadata": {},
   "outputs": [
    {
     "name": "stdout",
     "output_type": "stream",
     "text": [
      "The and andf abcde abcdef.\n"
     ]
    }
   ],
   "source": [
    "org_str = \"the andf and abcde abcdef\"\n",
    "lst_str = org_str.split(\" \")\n",
    "rslt_list= \"\"\n",
    "while True:\n",
    "    temp_val = min(lst_str, key=len)\n",
    "    lst_str.remove(temp_val)\n",
    "    if rslt_list == \"\":\n",
    "       temp_val = temp_val.capitalize()\n",
    "    if len(lst_str) == 0:\n",
    "        rslt_list += temp_val +'.'\n",
    "        break\n",
    "    rslt_list += temp_val + ' '\n",
    "print(rslt_list)"
   ]
  },
  {
   "cell_type": "code",
   "execution_count": 11,
   "metadata": {},
   "outputs": [
    {
     "name": "stdout",
     "output_type": "stream",
     "text": [
      "Yes\n",
      "NO\n"
     ]
    }
   ],
   "source": [
    "x = ['hello','hi']\n",
    "y = ['world','bye']\n",
    "m  = list(zip(x,y))\n",
    "for str_x, str_y in m:\n",
    "    flag = False\n",
    "    for str1 in str_x:\n",
    "        if str1 in str_y:\n",
    "            print(\"Yes\")\n",
    "            flag = True\n",
    "            break\n",
    "    if not flag:\n",
    "        print(\"NO\")"
   ]
  },
  {
   "cell_type": "code",
   "execution_count": null,
   "metadata": {},
   "outputs": [],
   "source": []
  }
 ],
 "metadata": {
  "kernelspec": {
   "display_name": "Python 3",
   "language": "python",
   "name": "python3"
  },
  "language_info": {
   "codemirror_mode": {
    "name": "ipython",
    "version": 3
   },
   "file_extension": ".py",
   "mimetype": "text/x-python",
   "name": "python",
   "nbconvert_exporter": "python",
   "pygments_lexer": "ipython3",
   "version": "3.7.3"
  }
 },
 "nbformat": 4,
 "nbformat_minor": 2
}
