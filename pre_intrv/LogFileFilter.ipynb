{
 "cells": [
  {
   "cell_type": "code",
   "execution_count": 1,
   "metadata": {},
   "outputs": [],
   "source": [
    "m = '''Jan 23 2016 10:30:08AM - bla bla HOST-1A connected\n",
    "Jan 23 2016 11:04:56AM - bla bla HOST-1B connected\n",
    "Jan 23 2016 1:18:32PM - bla bla HOST-1B disconnected from server\n",
    "Jan 23 2016 4:16:09PM - bla bla spurious activity from 10.0.0.45\n",
    "Jan 23 2016 9:43:44PM - bla bla HOST-1A disconnected from server\n",
    "Feb 1 2016 12:40:28AM - bla bla HOST-1A connected\n",
    "Feb 1 2016 1:21:52AM - bla bla spurious activity from 192.168.123.4\n",
    "Mar 29 2016 1:13:07PM - bla bla HOST-1A disconnected from server\n",
    "'''"
   ]
  },
  {
   "cell_type": "code",
   "execution_count": 19,
   "metadata": {},
   "outputs": [
    {
     "data": {
      "text/plain": [
       "[('Jan 23 2016 10:30:08AM', '', ' -', ' bla bla ', 'HOST-1A', ' connected'),\n",
       " ('Jan 23 2016 9:43:44PM',\n",
       "  '',\n",
       "  ' -',\n",
       "  ' bla bla ',\n",
       "  'HOST-1A',\n",
       "  ' disconnected from server'),\n",
       " ('Feb 1 2016 12:40:28AM', '', ' -', ' bla bla ', 'HOST-1A', ' connected'),\n",
       " ('Mar 29 2016 1:13:07PM',\n",
       "  '',\n",
       "  ' -',\n",
       "  ' bla bla ',\n",
       "  'HOST-1A',\n",
       "  ' disconnected from server')]"
      ]
     },
     "execution_count": 19,
     "metadata": {},
     "output_type": "execute_result"
    }
   ],
   "source": [
    "import re\n",
    "re.findall(r'(.*)(\\d*)(.-)(.*)(HOST-1A)(.*)', m)"
   ]
  },
  {
   "cell_type": "code",
   "execution_count": 3,
   "metadata": {},
   "outputs": [
    {
     "data": {
      "text/plain": [
       "[('Jan 23 2016 11:04:56AM - bla bla ', 'HOST-1B', ' connected'),\n",
       " ('Jan 23 2016 1:18:32PM - bla bla ', 'HOST-1B', ' disconnected from server')]"
      ]
     },
     "execution_count": 3,
     "metadata": {},
     "output_type": "execute_result"
    }
   ],
   "source": [
    "re.findall(r'(.*)(HOST-1B)(.*)', m)"
   ]
  },
  {
   "cell_type": "code",
   "execution_count": 46,
   "metadata": {},
   "outputs": [
    {
     "data": {
      "text/plain": [
       "'10.0.0.45, 192.168.123.4'"
      ]
     },
     "execution_count": 46,
     "metadata": {},
     "output_type": "execute_result"
    }
   ],
   "source": [
    "', '.join(re.findall(r'spurious.* (\\d.+)', m))"
   ]
  },
  {
   "cell_type": "code",
   "execution_count": 47,
   "metadata": {},
   "outputs": [
    {
     "data": {
      "text/plain": [
       "''"
      ]
     },
     "execution_count": 47,
     "metadata": {},
     "output_type": "execute_result"
    }
   ],
   "source": [
    "s= \"HOST-1A\""
   ]
  },
  {
   "cell_type": "code",
   "execution_count": 37,
   "metadata": {},
   "outputs": [],
   "source": [
    "s = re.findall(r'(.*)(\\d*)(.-)(.*)('+ re.escape(s) +')(.*)', m)"
   ]
  },
  {
   "cell_type": "code",
   "execution_count": 43,
   "metadata": {},
   "outputs": [
    {
     "data": {
      "text/plain": [
       "'disconnected'"
      ]
     },
     "execution_count": 43,
     "metadata": {},
     "output_type": "execute_result"
    }
   ],
   "source": [
    "s[1][5].split(' ')[1]"
   ]
  },
  {
   "cell_type": "code",
   "execution_count": 36,
   "metadata": {},
   "outputs": [],
   "source": [
    "from datetime import datetime\n",
    "datetime_str = 'Jan 23 2016 10:30:08PM'"
   ]
  },
  {
   "cell_type": "code",
   "execution_count": 33,
   "metadata": {},
   "outputs": [
    {
     "data": {
      "text/plain": [
       "'23/01/16 22:30:08'"
      ]
     },
     "execution_count": 33,
     "metadata": {},
     "output_type": "execute_result"
    }
   ],
   "source": [
    "datetime.strptime(datetime_str, '%b %d %Y %I:%M:%S%p').strftime('%d/%m/%y %H:%M:%S')"
   ]
  },
  {
   "cell_type": "code",
   "execution_count": null,
   "metadata": {},
   "outputs": [],
   "source": []
  }
 ],
 "metadata": {
  "kernelspec": {
   "display_name": "Python 3",
   "language": "python",
   "name": "python3"
  },
  "language_info": {
   "codemirror_mode": {
    "name": "ipython",
    "version": 3
   },
   "file_extension": ".py",
   "mimetype": "text/x-python",
   "name": "python",
   "nbconvert_exporter": "python",
   "pygments_lexer": "ipython3",
   "version": "3.7.3"
  }
 },
 "nbformat": 4,
 "nbformat_minor": 2
}
